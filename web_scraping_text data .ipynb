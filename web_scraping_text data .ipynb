{
 "cells": [
  {
   "cell_type": "markdown",
   "id": "9194d365",
   "metadata": {},
   "source": [
    "## Task 1: scrapping text data from 2 reliable websites\n",
    "#### Websites:\n",
    "1. https://www.geeksforgeeks.org/introduction-deep-learning , \n",
    "2. https://www.ibm.com/topics/machine-learning"
   ]
  },
  {
   "cell_type": "code",
   "execution_count": 1,
   "id": "7e3f0e43",
   "metadata": {},
   "outputs": [],
   "source": [
    "from bs4 import BeautifulSoup\n",
    "import requests\n",
    "import sys"
   ]
  },
  {
   "cell_type": "code",
   "execution_count": 2,
   "id": "862c01bf",
   "metadata": {},
   "outputs": [
    {
     "name": "stdout",
     "output_type": "stream",
     "text": [
      "Status code:  200\n"
     ]
    }
   ],
   "source": [
    "# desktop user-agent\n",
    "USER_AGENT = \"Mozilla/5.0 (Macintosh; Intel Mac OS X 10.14; rv:65.0) Gecko/20100101Firefox/65.0\"\n",
    "headers = {\"user-agent\": USER_AGENT}\n",
    "r = requests.get(\"https://www.geeksforgeeks.org/introduction-deep-learning/\", headers=headers)\n",
    "print(\"Status code: \", r.status_code)"
   ]
  },
  {
   "cell_type": "code",
   "execution_count": 3,
   "id": "6b6500b6",
   "metadata": {},
   "outputs": [],
   "source": [
    "if r.status_code == 200:\n",
    "# resp = requests.get(URL, headers=headers)\n",
    "    soup = BeautifulSoup(r.content, \"html.parser\")\n",
    "else:\n",
    "    print(\"Scrapping is not possible\")"
   ]
  },
  {
   "cell_type": "code",
   "execution_count": 4,
   "id": "e2e3e9a6",
   "metadata": {},
   "outputs": [],
   "source": [
    "# name the output file to write to local disk\n",
    "out_filename = \"web_content.txt\""
   ]
  },
  {
   "cell_type": "code",
   "execution_count": 5,
   "id": "fe553f3b",
   "metadata": {},
   "outputs": [
    {
     "name": "stdout",
     "output_type": "stream",
     "text": [
      "Introduction to Deep Learning\n"
     ]
    }
   ],
   "source": [
    "# Extract the headline (usually inside the <h1> tag)\n",
    "headline = soup.find('h1').get_text()\n",
    "print(headline)"
   ]
  },
  {
   "cell_type": "code",
   "execution_count": 6,
   "id": "4ab77ba8",
   "metadata": {},
   "outputs": [],
   "source": [
    "# Extract all paragraphs from the page\n",
    "paragraphs = soup.find_all('p')\n",
    "#print(paragraphs)\n",
    "text_content = \"\\n\".join([p.get_text() for p in paragraphs])"
   ]
  },
  {
   "cell_type": "code",
   "execution_count": 7,
   "id": "dd759b80",
   "metadata": {},
   "outputs": [
    {
     "name": "stdout",
     "output_type": "stream",
     "text": [
      "Web content saved to: web_content.txt\n"
     ]
    }
   ],
   "source": [
    "# Open the output file and write the content\n",
    "with open(out_filename, \"w\", encoding=\"utf-8\") as f:\n",
    "    f.write(f\"Headline: {headline}\\n\\n\")\n",
    "    f.write(\"Content:\\n\")\n",
    "    f.write(text_content)\n",
    "\n",
    "print(\"Web content from GeeksforGeeks saved to:\", out_filename)"
   ]
  },
  {
   "cell_type": "markdown",
   "id": "c0157ef6",
   "metadata": {},
   "source": [
    "#### Scraping the second website"
   ]
  },
  {
   "cell_type": "code",
   "execution_count": 8,
   "id": "4bed9fec",
   "metadata": {},
   "outputs": [
    {
     "name": "stdout",
     "output_type": "stream",
     "text": [
      "IBM Status code:  200\n"
     ]
    }
   ],
   "source": [
    "r2 = requests.get(\"https://www.ibm.com/topics/machine-learning\", headers=headers)\n",
    "print(\"IBM Status code: \", r2.status_code)"
   ]
  },
  {
   "cell_type": "code",
   "execution_count": 9,
   "id": "1ea2d242",
   "metadata": {},
   "outputs": [],
   "source": [
    "if r2.status_code == 200:\n",
    "    soup2 = BeautifulSoup(r2.content, \"html.parser\")"
   ]
  },
  {
   "cell_type": "code",
   "execution_count": 24,
   "id": "b3b3fecc",
   "metadata": {},
   "outputs": [
    {
     "name": "stdout",
     "output_type": "stream",
     "text": [
      "What is machine learning?\n"
     ]
    }
   ],
   "source": [
    "# Extract the headline from the second site\n",
    "heading_div = soup2.find('div', {\"slot\": \"heading\"})\n",
    "#print(heading_div)\n",
    "if heading_div:\n",
    "    # Find the dds-content-block-heading inside the div\n",
    "    headline_tag = heading_div.find('dds-content-block-heading')\n",
    "    if headline_tag:\n",
    "            # Extract and clean the headline text\n",
    "        headline2 = headline_tag.get_text(strip=True)\n",
    "else:\n",
    "    headline2 = \"No headline found\"\n",
    "    \n",
    "print(headline2)"
   ]
  },
  {
   "cell_type": "code",
   "execution_count": 26,
   "id": "203214e2",
   "metadata": {},
   "outputs": [],
   "source": [
    "#Extract the paragarpahs from the second site\n",
    "paragraph = soup2.find_all('div', class_=\"cms-richtext\")\n",
    "#print(paragraph)"
   ]
  },
  {
   "cell_type": "code",
   "execution_count": 30,
   "id": "6d61b7bd",
   "metadata": {},
   "outputs": [],
   "source": [
    "# Looping through each div and extract the text from <p> tags inside them\n",
    "text_content2 = \"\"\n",
    "for div in paragraph:\n",
    "    paragraphs = div.find_all('p')  # Find all <p> tags inside this div\n",
    "    for p in paragraphs:\n",
    "        text_content2 += p.get_text(strip=True) + \"\\n\"  # Extract text and add newline after each paragraph"
   ]
  },
  {
   "cell_type": "code",
   "execution_count": 32,
   "id": "8a2acff4",
   "metadata": {},
   "outputs": [],
   "source": [
    "#print(text_content2)"
   ]
  },
  {
   "cell_type": "code",
   "execution_count": 35,
   "id": "11533432",
   "metadata": {},
   "outputs": [
    {
     "name": "stdout",
     "output_type": "stream",
     "text": [
      "Web content from IBM saved to: web_content.txt\n"
     ]
    }
   ],
   "source": [
    "# Append the content from the second site into the file\n",
    "with open(out_filename, \"a\", encoding=\"utf-8\") as f:  # Open file in append mode\n",
    "    f.write(\"Website 2: IBM\\n\")\n",
    "    f.write(f\"Headline: {headline2}\\n\\n\")\n",
    "    f.write(\"Content:\\n\")\n",
    "    f.write(text_content2)\n",
    "    f.write(\"\\n\")  # Add some spacing at the end of file\n",
    "\n",
    "print(\"Web content from IBM saved to:\", out_filename)"
   ]
  }
 ],
 "metadata": {
  "kernelspec": {
   "display_name": "Python 3 (ipykernel)",
   "language": "python",
   "name": "python3"
  },
  "language_info": {
   "codemirror_mode": {
    "name": "ipython",
    "version": 3
   },
   "file_extension": ".py",
   "mimetype": "text/x-python",
   "name": "python",
   "nbconvert_exporter": "python",
   "pygments_lexer": "ipython3",
   "version": "3.10.9"
  }
 },
 "nbformat": 4,
 "nbformat_minor": 5
}
